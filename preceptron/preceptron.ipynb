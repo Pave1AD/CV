{
 "cells": [
  {
   "cell_type": "markdown",
   "id": "3147bb98-a665-4e76-b9bd-22af4260d017",
   "metadata": {},
   "source": [
    "<h3> The Perceptron </h3>"
   ]
  },
  {
   "cell_type": "markdown",
   "id": "b8d38fe9-56b3-4daf-b014-332bc98b23e5",
   "metadata": {},
   "source": [
    "Today we will build a perceptron that will allow us to determine whether a patient has a sleep disorder or not. We will build it and train it from scratch using only the numpy library, with the additional support of pandas to load the data and matplotlib to visualize the training process and results."
   ]
  },
  {
   "cell_type": "markdown",
   "id": "2e5a3c59-88c3-4a7e-b53c-971e87089f87",
   "metadata": {},
   "source": [
    "<center>\n",
    "    <figure>\n",
    "    <img src=\"perceptron-diagram.png\" alt=\"perceptron\" width=\"75%\"/>\n",
    "      <figcaption>Schematic representation of a Perceptron</figcaption>\n",
    "    </figure>\n",
    "</center>"
   ]
  },
  {
   "cell_type": "code",
   "execution_count": 1,
   "id": "0d1c081e-ec3c-4225-a1ff-28f35d38c3ef",
   "metadata": {},
   "outputs": [],
   "source": [
    "import matplotlib.pyplot as plt\n",
    "import numpy as np\n",
    "import pandas as pd"
   ]
  },
  {
   "cell_type": "markdown",
   "id": "661aa0a6-8f5c-43db-ae43-cc109f631acf",
   "metadata": {},
   "source": [
    "**Exercise 1** - Load the data from the sleep_disorder_data.csv file with pandas and visualize it in the notebook."
   ]
  },
  {
   "cell_type": "code",
   "execution_count": 2,
   "id": "e6842ebe-e38f-4d10-8d2c-7769650fba57",
   "metadata": {},
   "outputs": [
    {
     "data": {
      "text/html": [
       "<div>\n",
       "<style scoped>\n",
       "    .dataframe tbody tr th:only-of-type {\n",
       "        vertical-align: middle;\n",
       "    }\n",
       "\n",
       "    .dataframe tbody tr th {\n",
       "        vertical-align: top;\n",
       "    }\n",
       "\n",
       "    .dataframe thead th {\n",
       "        text-align: right;\n",
       "    }\n",
       "</style>\n",
       "<table border=\"1\" class=\"dataframe\">\n",
       "  <thead>\n",
       "    <tr style=\"text-align: right;\">\n",
       "      <th></th>\n",
       "      <th>Person ID</th>\n",
       "      <th>Gender</th>\n",
       "      <th>Age</th>\n",
       "      <th>Occupation</th>\n",
       "      <th>Sleep Duration</th>\n",
       "      <th>Quality of Sleep</th>\n",
       "      <th>Physical Activity Level</th>\n",
       "      <th>Stress Level</th>\n",
       "      <th>BMI Category</th>\n",
       "      <th>Blood Pressure</th>\n",
       "      <th>Heart Rate</th>\n",
       "      <th>Daily Steps</th>\n",
       "      <th>Sleep Disorder</th>\n",
       "    </tr>\n",
       "  </thead>\n",
       "  <tbody>\n",
       "    <tr>\n",
       "      <th>0</th>\n",
       "      <td>1</td>\n",
       "      <td>Male</td>\n",
       "      <td>27</td>\n",
       "      <td>Software Engineer</td>\n",
       "      <td>6.1</td>\n",
       "      <td>6</td>\n",
       "      <td>42</td>\n",
       "      <td>6</td>\n",
       "      <td>Overweight</td>\n",
       "      <td>126/83</td>\n",
       "      <td>77</td>\n",
       "      <td>4200</td>\n",
       "      <td>NaN</td>\n",
       "    </tr>\n",
       "    <tr>\n",
       "      <th>1</th>\n",
       "      <td>2</td>\n",
       "      <td>Male</td>\n",
       "      <td>28</td>\n",
       "      <td>Doctor</td>\n",
       "      <td>6.2</td>\n",
       "      <td>6</td>\n",
       "      <td>60</td>\n",
       "      <td>8</td>\n",
       "      <td>Normal</td>\n",
       "      <td>125/80</td>\n",
       "      <td>75</td>\n",
       "      <td>10000</td>\n",
       "      <td>NaN</td>\n",
       "    </tr>\n",
       "    <tr>\n",
       "      <th>2</th>\n",
       "      <td>3</td>\n",
       "      <td>Male</td>\n",
       "      <td>28</td>\n",
       "      <td>Doctor</td>\n",
       "      <td>6.2</td>\n",
       "      <td>6</td>\n",
       "      <td>60</td>\n",
       "      <td>8</td>\n",
       "      <td>Normal</td>\n",
       "      <td>125/80</td>\n",
       "      <td>75</td>\n",
       "      <td>10000</td>\n",
       "      <td>NaN</td>\n",
       "    </tr>\n",
       "    <tr>\n",
       "      <th>3</th>\n",
       "      <td>4</td>\n",
       "      <td>Male</td>\n",
       "      <td>28</td>\n",
       "      <td>Sales Representative</td>\n",
       "      <td>5.9</td>\n",
       "      <td>4</td>\n",
       "      <td>30</td>\n",
       "      <td>8</td>\n",
       "      <td>Obese</td>\n",
       "      <td>140/90</td>\n",
       "      <td>85</td>\n",
       "      <td>3000</td>\n",
       "      <td>Sleep Apnea</td>\n",
       "    </tr>\n",
       "    <tr>\n",
       "      <th>4</th>\n",
       "      <td>5</td>\n",
       "      <td>Male</td>\n",
       "      <td>28</td>\n",
       "      <td>Sales Representative</td>\n",
       "      <td>5.9</td>\n",
       "      <td>4</td>\n",
       "      <td>30</td>\n",
       "      <td>8</td>\n",
       "      <td>Obese</td>\n",
       "      <td>140/90</td>\n",
       "      <td>85</td>\n",
       "      <td>3000</td>\n",
       "      <td>Sleep Apnea</td>\n",
       "    </tr>\n",
       "    <tr>\n",
       "      <th>...</th>\n",
       "      <td>...</td>\n",
       "      <td>...</td>\n",
       "      <td>...</td>\n",
       "      <td>...</td>\n",
       "      <td>...</td>\n",
       "      <td>...</td>\n",
       "      <td>...</td>\n",
       "      <td>...</td>\n",
       "      <td>...</td>\n",
       "      <td>...</td>\n",
       "      <td>...</td>\n",
       "      <td>...</td>\n",
       "      <td>...</td>\n",
       "    </tr>\n",
       "    <tr>\n",
       "      <th>369</th>\n",
       "      <td>370</td>\n",
       "      <td>Female</td>\n",
       "      <td>59</td>\n",
       "      <td>Nurse</td>\n",
       "      <td>8.1</td>\n",
       "      <td>9</td>\n",
       "      <td>75</td>\n",
       "      <td>3</td>\n",
       "      <td>Overweight</td>\n",
       "      <td>140/95</td>\n",
       "      <td>68</td>\n",
       "      <td>7000</td>\n",
       "      <td>Sleep Apnea</td>\n",
       "    </tr>\n",
       "    <tr>\n",
       "      <th>370</th>\n",
       "      <td>371</td>\n",
       "      <td>Female</td>\n",
       "      <td>59</td>\n",
       "      <td>Nurse</td>\n",
       "      <td>8.0</td>\n",
       "      <td>9</td>\n",
       "      <td>75</td>\n",
       "      <td>3</td>\n",
       "      <td>Overweight</td>\n",
       "      <td>140/95</td>\n",
       "      <td>68</td>\n",
       "      <td>7000</td>\n",
       "      <td>Sleep Apnea</td>\n",
       "    </tr>\n",
       "    <tr>\n",
       "      <th>371</th>\n",
       "      <td>372</td>\n",
       "      <td>Female</td>\n",
       "      <td>59</td>\n",
       "      <td>Nurse</td>\n",
       "      <td>8.1</td>\n",
       "      <td>9</td>\n",
       "      <td>75</td>\n",
       "      <td>3</td>\n",
       "      <td>Overweight</td>\n",
       "      <td>140/95</td>\n",
       "      <td>68</td>\n",
       "      <td>7000</td>\n",
       "      <td>Sleep Apnea</td>\n",
       "    </tr>\n",
       "    <tr>\n",
       "      <th>372</th>\n",
       "      <td>373</td>\n",
       "      <td>Female</td>\n",
       "      <td>59</td>\n",
       "      <td>Nurse</td>\n",
       "      <td>8.1</td>\n",
       "      <td>9</td>\n",
       "      <td>75</td>\n",
       "      <td>3</td>\n",
       "      <td>Overweight</td>\n",
       "      <td>140/95</td>\n",
       "      <td>68</td>\n",
       "      <td>7000</td>\n",
       "      <td>Sleep Apnea</td>\n",
       "    </tr>\n",
       "    <tr>\n",
       "      <th>373</th>\n",
       "      <td>374</td>\n",
       "      <td>Female</td>\n",
       "      <td>59</td>\n",
       "      <td>Nurse</td>\n",
       "      <td>8.1</td>\n",
       "      <td>9</td>\n",
       "      <td>75</td>\n",
       "      <td>3</td>\n",
       "      <td>Overweight</td>\n",
       "      <td>140/95</td>\n",
       "      <td>68</td>\n",
       "      <td>7000</td>\n",
       "      <td>Sleep Apnea</td>\n",
       "    </tr>\n",
       "  </tbody>\n",
       "</table>\n",
       "<p>374 rows × 13 columns</p>\n",
       "</div>"
      ],
      "text/plain": [
       "     Person ID  Gender  Age            Occupation  Sleep Duration  \\\n",
       "0            1    Male   27     Software Engineer             6.1   \n",
       "1            2    Male   28                Doctor             6.2   \n",
       "2            3    Male   28                Doctor             6.2   \n",
       "3            4    Male   28  Sales Representative             5.9   \n",
       "4            5    Male   28  Sales Representative             5.9   \n",
       "..         ...     ...  ...                   ...             ...   \n",
       "369        370  Female   59                 Nurse             8.1   \n",
       "370        371  Female   59                 Nurse             8.0   \n",
       "371        372  Female   59                 Nurse             8.1   \n",
       "372        373  Female   59                 Nurse             8.1   \n",
       "373        374  Female   59                 Nurse             8.1   \n",
       "\n",
       "     Quality of Sleep  Physical Activity Level  Stress Level BMI Category  \\\n",
       "0                   6                       42             6   Overweight   \n",
       "1                   6                       60             8       Normal   \n",
       "2                   6                       60             8       Normal   \n",
       "3                   4                       30             8        Obese   \n",
       "4                   4                       30             8        Obese   \n",
       "..                ...                      ...           ...          ...   \n",
       "369                 9                       75             3   Overweight   \n",
       "370                 9                       75             3   Overweight   \n",
       "371                 9                       75             3   Overweight   \n",
       "372                 9                       75             3   Overweight   \n",
       "373                 9                       75             3   Overweight   \n",
       "\n",
       "    Blood Pressure  Heart Rate  Daily Steps Sleep Disorder  \n",
       "0           126/83          77         4200            NaN  \n",
       "1           125/80          75        10000            NaN  \n",
       "2           125/80          75        10000            NaN  \n",
       "3           140/90          85         3000    Sleep Apnea  \n",
       "4           140/90          85         3000    Sleep Apnea  \n",
       "..             ...         ...          ...            ...  \n",
       "369         140/95          68         7000    Sleep Apnea  \n",
       "370         140/95          68         7000    Sleep Apnea  \n",
       "371         140/95          68         7000    Sleep Apnea  \n",
       "372         140/95          68         7000    Sleep Apnea  \n",
       "373         140/95          68         7000    Sleep Apnea  \n",
       "\n",
       "[374 rows x 13 columns]"
      ]
     },
     "execution_count": 2,
     "metadata": {},
     "output_type": "execute_result"
    }
   ],
   "source": [
    "data = pd.read_csv('sleep_disorder_data.csv')\n",
    "data"
   ]
  },
  {
   "cell_type": "markdown",
   "id": "7ce9cb92-4b44-45ca-819d-07b9dd2c09f7",
   "metadata": {},
   "source": [
    "**Exercise 2** - Select the columns 'Quality of Sleep', 'Physical Activity Level' and 'Stress Level' as your input data `X` and the column 'Sleep Disorder' as your target `y`"
   ]
  },
  {
   "cell_type": "code",
   "execution_count": 3,
   "id": "dbe95959-5f03-4f79-9303-0a56ea31dda6",
   "metadata": {},
   "outputs": [],
   "source": [
    "x = data[['Quality of Sleep', 'Physical Activity Level', 'Stress Level']].to_numpy()\n",
    "y = data['Sleep Disorder']\n",
    "y = y.replace({np.nan: 'None'}) \n",
    "y = y.to_numpy()"
   ]
  },
  {
   "cell_type": "markdown",
   "id": "3e09c7d9-2c9b-4f91-96f6-6322a190941a",
   "metadata": {},
   "source": [
    "**Exercise 3** - You should see that you have three different labels: 'Sleep Apnea', 'Insomnia' and 'None'. The first two correspond to sleeping disorders, while the label 'None' refers to the absence of sleep disorder (normal sleep). Convert the labels to numerical values such that each 'None' becomes 0 and 'Sleep Apnea' and 'Insomnia' both become 1. Convert your numpy array to integer data type."
   ]
  },
  {
   "cell_type": "code",
   "execution_count": 4,
   "id": "746ff8d2-cb8c-46ee-9a70-d47047188e0a",
   "metadata": {
    "scrolled": true
   },
   "outputs": [],
   "source": [
    "y[y=='Sleep Apnea'] = 1\n",
    "y[y=='Insomnia'] = 1\n",
    "y[y=='None'] = 0"
   ]
  },
  {
   "cell_type": "code",
   "execution_count": 5,
   "id": "dc756c26-0c7f-471d-994e-184c302c4504",
   "metadata": {},
   "outputs": [
    {
     "data": {
      "text/plain": [
       "dtype('O')"
      ]
     },
     "execution_count": 5,
     "metadata": {},
     "output_type": "execute_result"
    }
   ],
   "source": [
    "y.dtype"
   ]
  },
  {
   "cell_type": "markdown",
   "id": "bbf578ae-1c50-4309-9c99-a10c8604da8d",
   "metadata": {},
   "source": [
    "**Exercise 4** - Standardize the data matrix `X` such that each element in the resulting matrix is the following:\n",
    "\n",
    "\\begin{equation}\n",
    "x_i^j:=\\frac{x_i^j-\\mu^j}{\\sigma^j},\n",
    "\\end{equation}\n",
    "\n",
    "where $x_i^j$ is the $i$th data point in the $j$th column and $\\mu_j$ and $\\sigma_j$ are the mean and standard deviation, respectively, of the $j$th column (note that $\\sigma_j$ refers to the standard deviation of column $j$ of the feature space and is not related to the sigmoid function $\\sigma$)"
   ]
  },
  {
   "cell_type": "code",
   "execution_count": 6,
   "id": "b94a28ec-9851-45f1-8e2e-dab9393eb17e",
   "metadata": {},
   "outputs": [
    {
     "data": {
      "text/plain": [
       "array([ 7.31283422, 59.17112299,  5.38502674])"
      ]
     },
     "execution_count": 6,
     "metadata": {},
     "output_type": "execute_result"
    }
   ],
   "source": [
    "np.mean(x, axis = 0)"
   ]
  },
  {
   "cell_type": "code",
   "execution_count": 7,
   "id": "1d450a91-21a1-45d9-8973-1b86a985afc7",
   "metadata": {},
   "outputs": [
    {
     "data": {
      "text/plain": [
       "array([[-1.09828011, -0.82541823,  0.34702051],\n",
       "       [-1.09828011,  0.03984423,  1.47559156],\n",
       "       [-1.09828011,  0.03984423,  1.47559156],\n",
       "       ...,\n",
       "       [ 1.41143533,  0.76089629, -1.34583606],\n",
       "       [ 1.41143533,  0.76089629, -1.34583606],\n",
       "       [ 1.41143533,  0.76089629, -1.34583606]])"
      ]
     },
     "execution_count": 7,
     "metadata": {},
     "output_type": "execute_result"
    }
   ],
   "source": [
    "x_standartized=(x-np.mean(x, axis = 0)) / np.std(x, axis = 0)\n",
    "x_standartized"
   ]
  },
  {
   "cell_type": "code",
   "execution_count": 8,
   "id": "61d7f5a5-d04c-4987-a7cf-b8ae528b9450",
   "metadata": {},
   "outputs": [
    {
     "data": {
      "text/plain": [
       "np.float64(1.2032363618040912e-16)"
      ]
     },
     "execution_count": 8,
     "metadata": {},
     "output_type": "execute_result"
    }
   ],
   "source": [
    "x_standartized.mean()"
   ]
  },
  {
   "cell_type": "markdown",
   "id": "8ed6585d-ed43-450d-9777-485c10c59c24",
   "metadata": {},
   "source": [
    "Now it is time to start building the model. Since the elements in the training set are 3 dimensional (we are looking at 3 features: Sleep Quality, Exercise and Stress Level) our single neuron model will have 3 weights and 1 bias.\n",
    "\n",
    "**Exercise 5** - Initialize a matrix of random weights of shape (3,1) and a bias of shape (1,) between -1 and 1, store them in two variables called `weights` and `bias` and print them. Use the random seed 6 for reproducibility."
   ]
  },
  {
   "cell_type": "code",
   "execution_count": 9,
   "id": "345f8c6b-2a94-4885-b099-dd519c091ba8",
   "metadata": {},
   "outputs": [
    {
     "name": "stdout",
     "output_type": "stream",
     "text": [
      "[[ 0.7857203 ]\n",
      " [-0.33604039]\n",
      " [ 0.64245825]]\n",
      "[0.04169663]\n"
     ]
    }
   ],
   "source": [
    "np.random.seed(6)\n",
    "weights = np.random.uniform(-1, 1, (3, 1))\n",
    "print(weights)\n",
    "bias = np.random.rand(1)\n",
    "print(bias)"
   ]
  },
  {
   "cell_type": "markdown",
   "id": "19f60470-a35e-4878-ae4a-982ac7216690",
   "metadata": {},
   "source": [
    "The next step is to define the forward function. The output is given by the weighted sum of the inputs plus the bias, which then goes through a sigmoid function to produce the final prediction $\\hat{y}$:\n",
    "\n",
    "\\begin{equation}\n",
    "\\hat{y}=\\sigma(w_1x_1+w_2x_2+w_3x_3+b)\n",
    "\\end{equation}\n",
    "\n",
    "Given an input column vector $\\vec{x}=\\begin{bmatrix}x_1 \\\\ x_2 \\\\ x_3\\end{bmatrix}$, a weight matrix $W=\\begin{bmatrix}w_1 \\\\ w_2 \\\\ w_3\\end{bmatrix}$ and a bias $b$ we can express the linear combination of the weights and inputs plus the bias in matrix form as\n",
    "\n",
    "\\begin{equation}\n",
    "W^T\\vec{x}+b=\\begin{bmatrix}w_1 & w_2 & w_3\\end{bmatrix}\\begin{bmatrix}x_1 \\\\ x_2 \\\\ x_3\\end{bmatrix}+b=w_1x_1+w_2x_2+w_3x_3+b\n",
    "\\end{equation}\n",
    "\n",
    "which gives the following expression for the prediction:\n",
    "\n",
    "\\begin{equation}\n",
    "\\hat{y}=\\sigma(W^T\\vec{x}+b)\n",
    "\\end{equation}\n",
    "\n",
    "In our case, since each column represents a feature and observations are represented by rows, we also need to transpose the input matrix `X`."
   ]
  },
  {
   "cell_type": "markdown",
   "id": "2a9bba5c-7b77-4a85-8171-e49a9905803c",
   "metadata": {},
   "source": [
    "**Exercise 6** - Define a function called `sigmoid` that takes an input `x` and returns the following:\n",
    "\n",
    "\\begin{equation}\n",
    "\\sigma(x)=\\frac{1}{1+e^{-x}}\n",
    "\\end{equation}\n",
    "\n",
    "remember that you can use `np.exp(x)` to raise $e^x$"
   ]
  },
  {
   "cell_type": "code",
   "execution_count": 10,
   "id": "128234f0-e465-46c2-b1a9-89f2de59f9df",
   "metadata": {},
   "outputs": [],
   "source": [
    "def sigmoid(x):\n",
    "    return 1/(1+(np.exp(-x)))"
   ]
  },
  {
   "cell_type": "markdown",
   "id": "e637ced9-03bf-461b-8d1c-4b025ae5bc63",
   "metadata": {},
   "source": [
    "**Exercise 7** - Define a function called `forward` that takes 3 inputs: the weights, the bias and the data matrix `X` and returns the output of the perceptron:\n",
    "\n",
    "\\begin{equation}\n",
    "\\hat{y}=\\sigma(W^TX+b)\n",
    "\\end{equation}\n",
    "\n",
    "Tip: use the previously defined `sigmoid` function."
   ]
  },
  {
   "cell_type": "code",
   "execution_count": 11,
   "id": "f964c4be-5268-42cf-9bbd-e565d47aa9ac",
   "metadata": {},
   "outputs": [],
   "source": [
    "def forward (weights, bias, x):\n",
    "    return sigmoid(np.dot(weights.T, x.T) + bias)"
   ]
  },
  {
   "cell_type": "markdown",
   "id": "c59c16a4-70d9-44eb-afb8-cf0c84cf6c29",
   "metadata": {},
   "source": [
    "**Exercise 8** - Make an initial prediction with the untrained model using the `forward` function that you just defined. You should visualize two outputs: the plain output and the rounded output, which will be 1 or 0 for each data point. Compare your predictions with the target $y$. How many did you get right?"
   ]
  },
  {
   "cell_type": "code",
   "execution_count": 12,
   "id": "ea9226cf-16ad-4958-9582-7c010cdb5dd4",
   "metadata": {},
   "outputs": [
    {
     "name": "stdout",
     "output_type": "stream",
     "text": [
      "[[0. 1. 1. 0. 0. 0. 1. 0. 0. 0. 1. 0. 1. 1. 1. 1. 0. 1. 0. 0. 0. 0. 0. 0.\n",
      "  0. 0. 0. 0. 0. 0. 0. 0. 0. 1. 0. 1. 1. 0. 0. 0. 0. 0. 0. 0. 0. 0. 0. 0.\n",
      "  0. 0. 0. 0. 1. 0. 1. 1. 0. 1. 1. 0. 1. 1. 1. 1. 1. 1. 1. 1. 0. 0. 1. 1.\n",
      "  1. 1. 1. 1. 1. 1. 1. 1. 0. 0. 1. 1. 1. 0. 0. 0. 0. 0. 0. 0. 1. 0. 0. 0.\n",
      "  0. 0. 0. 0. 0. 0. 0. 0. 0. 0. 0. 0. 0. 1. 0. 1. 0. 1. 0. 0. 0. 0. 0. 0.\n",
      "  0. 0. 0. 0. 0. 0. 1. 0. 1. 1. 0. 1. 1. 0. 1. 1. 0. 1. 0. 1. 0. 1. 0. 0.\n",
      "  1. 0. 1. 0. 1. 0. 0. 1. 1. 1. 1. 1. 1. 1. 1. 1. 1. 1. 1. 0. 0. 0. 1. 1.\n",
      "  1. 0. 0. 0. 0. 0. 0. 0. 0. 0. 0. 0. 0. 0. 0. 0. 0. 0. 0. 0. 0. 0. 0. 0.\n",
      "  0. 0. 0. 0. 0. 0. 0. 0. 0. 0. 0. 0. 0. 0. 0. 0. 0. 0. 0. 0. 0. 0. 0. 0.\n",
      "  0. 0. 0. 0. 0. 0. 0. 0. 0. 0. 0. 0. 0. 0. 0. 0. 0. 0. 0. 0. 0. 0. 0. 0.\n",
      "  0. 0. 0. 0. 0. 0. 0. 1. 0. 0. 1. 1. 0. 0. 0. 0. 0. 0. 0. 0. 0. 0. 0. 0.\n",
      "  0. 0. 0. 0. 0. 0. 0. 0. 0. 0. 0. 0. 0. 0. 0. 1. 0. 0. 0. 0. 0. 0. 0. 0.\n",
      "  0. 0. 0. 0. 0. 0. 0. 0. 0. 0. 1. 1. 1. 1. 1. 0. 0. 0. 1. 1. 1. 1. 1. 1.\n",
      "  1. 1. 1. 1. 1. 1. 1. 1. 1. 1. 1. 1. 1. 1. 1. 1. 1. 1. 1. 1. 1. 1. 1. 1.\n",
      "  1. 1. 1. 1. 1. 0. 0. 1. 1. 1. 1. 1. 1. 1. 1. 1. 1. 1. 1. 1. 1. 1. 1. 1.\n",
      "  1. 1. 1. 1. 1. 1. 1. 1. 1. 1. 1. 1. 1. 1.]]\n"
     ]
    }
   ],
   "source": [
    "y_raw = forward(weights, bias, x_standartized)\n",
    "y_pred = np.round(y_raw)\n",
    "print(y_pred)"
   ]
  },
  {
   "cell_type": "code",
   "execution_count": 13,
   "id": "c583562d-a8b8-4b9f-b640-fa9e6375d214",
   "metadata": {},
   "outputs": [
    {
     "name": "stdout",
     "output_type": "stream",
     "text": [
      "[0 0 0 1 1 1 1 0 0 0 0 0 0 0 0 0 1 1 1 0 0 0 0 0 0 0 0 0 0 0 1 1 0 0 0 0 0\n",
      " 0 0 0 0 0 0 0 0 0 0 0 0 1 0 0 0 0 0 0 0 0 0 0 0 0 0 0 0 0 0 1 0 0 0 0 0 0\n",
      " 0 0 0 0 0 0 1 1 0 0 0 0 0 0 0 0 0 0 0 1 1 0 0 0 0 0 0 0 0 1 1 1 0 0 0 0 0\n",
      " 0 0 0 0 0 0 0 0 0 0 0 0 0 0 0 0 0 0 0 0 0 0 0 0 0 0 0 0 0 0 0 0 0 1 1 1 1\n",
      " 0 0 0 0 0 0 0 0 0 0 0 0 0 0 0 0 0 1 0 0 0 0 0 0 0 0 0 0 0 1 0 0 0 0 0 0 1\n",
      " 1 1 1 1 1 1 1 1 1 1 1 1 1 1 1 1 1 1 0 0 0 0 0 0 0 0 0 0 0 0 0 0 0 1 1 1 1\n",
      " 1 1 1 1 1 1 1 1 1 1 1 1 1 1 1 1 1 1 1 1 1 1 1 1 1 1 0 0 1 1 1 1 1 1 1 1 1\n",
      " 1 1 0 0 0 1 1 1 0 1 1 1 1 1 1 1 1 1 1 1 0 0 1 1 1 1 1 1 1 1 1 1 1 1 1 1 1\n",
      " 1 1 0 0 0 0 0 1 1 1 1 1 1 1 1 1 0 0 0 1 0 0 0 0 0 0 0 0 0 0 0 0 0 0 0 0 0\n",
      " 0 0 0 0 0 0 1 1 0 0 0 1 1 1 1 1 1 1 1 1 1 1 1 1 1 0 0 1 1 1 1 1 1 1 1 1 1\n",
      " 1 1 1 1]\n"
     ]
    }
   ],
   "source": [
    "print(y)"
   ]
  },
  {
   "cell_type": "code",
   "execution_count": 14,
   "id": "645bd5e5-6b2e-434e-99d0-715dbf32f5a8",
   "metadata": {},
   "outputs": [
    {
     "data": {
      "text/plain": [
       "(1, 374)"
      ]
     },
     "execution_count": 14,
     "metadata": {},
     "output_type": "execute_result"
    }
   ],
   "source": [
    "y_pred.shape"
   ]
  },
  {
   "cell_type": "code",
   "execution_count": 15,
   "id": "9e08043a-d6b6-4a8d-bd42-5f117d58f83f",
   "metadata": {},
   "outputs": [
    {
     "data": {
      "text/plain": [
       "np.float64(0.4385026737967914)"
      ]
     },
     "execution_count": 15,
     "metadata": {},
     "output_type": "execute_result"
    }
   ],
   "source": [
    "(y == y_pred).sum() / len(y)"
   ]
  },
  {
   "cell_type": "markdown",
   "id": "874f42b0-8a46-438c-83f7-0fa76a5c763e",
   "metadata": {},
   "source": [
    "**Exercise 9** - Define a function called `mse_loss` that calculates the mean squared error:\n",
    "\n",
    "\\begin{equation}\n",
    "MSE=\\frac{1}{n}\\sum(y-\\hat{y})^2\n",
    "\\end{equation}"
   ]
  },
  {
   "cell_type": "code",
   "execution_count": 16,
   "id": "c62871d7-d6e1-4b6e-a5a6-0f6b90928be2",
   "metadata": {},
   "outputs": [
    {
     "name": "stdout",
     "output_type": "stream",
     "text": [
      "0.5614973262032086\n"
     ]
    }
   ],
   "source": [
    "def mse_loss(y, y_pred):\n",
    "    return np.mean((y-y_pred)**2)\n",
    "print(mse_loss(y, y_pred))"
   ]
  },
  {
   "cell_type": "markdown",
   "id": "529f0883-3685-4253-8ec7-6f022bbc31be",
   "metadata": {},
   "source": [
    "Before moving on to the final training loop, we need to define a function that updates the weights according to the value of the gradient, which gives us information about which direction we have to move in order to minimize the loss function. The derivative of the sigmoid function is $\\sigma(z)'=\\sigma(z)(1-\\sigma(z))$ and the gradient of the loss function $L$ for some input vector $\\vec{x}$ and target $y$ is given by \n",
    "\n",
    "\\begin{equation}\n",
    "\\nabla L(x,y)=\\begin{bmatrix}\n",
    "           \\frac{\\partial L}{\\partial w_1} \\\\\n",
    "           \\frac{\\partial L}{\\partial w_2} \\\\\n",
    "           \\frac{\\partial L}{\\partial w_3} \\\\\n",
    "           \\frac{\\partial L}{\\partial b} \n",
    "         \\end{bmatrix}=\\begin{bmatrix}\n",
    "         -2x_1\\left[\\left(1-\\sigma(x)\\right)\\sigma(x)\\right]\\left[y-\\sigma(x)\\right] \\\\\n",
    "         -2x_2\\left[\\left(1-\\sigma(x)\\right)\\sigma(x)\\right]\\left[y-\\sigma(x)\\right] \\\\\n",
    "         -2x_3\\left[\\left(1-\\sigma(x)\\right)\\sigma(x)\\right]\\left[y-\\sigma(x)\\right] \\\\\n",
    "         -2\\left[\\left(1-\\sigma(x)\\right)\\sigma(x)\\right]\\left[y-\\sigma(x)\\right]\n",
    "         \\end{bmatrix}\n",
    "         \\end{equation}"
   ]
  },
  {
   "cell_type": "markdown",
   "id": "85cd16ad-bd6f-4b80-bc1c-e3cf02c35730",
   "metadata": {},
   "source": [
    "**Exercise 10** - Define a function called `compute_gradient` that takes as input the weights, bias, input data $X$ and target $y$ and returns the gradient of the loss function $L$ as a tuple: the first value is an array with three entries consisting of the derivative of the loss function with respect to each weight and the second value is the derivative of the loss function with respect to the bias."
   ]
  },
  {
   "cell_type": "code",
   "execution_count": 17,
   "id": "a5037e97-ea90-4db4-ad6d-1acd0936bf5c",
   "metadata": {},
   "outputs": [],
   "source": [
    "def compute_gradient(weights, bias, x, y):\n",
    "    output = forward(weights, bias, x)\n",
    "    grad = -2*((1-output)*output)*(y-output)\n",
    "    weights_grad = np.dot(grad, x).T\n",
    "    bias_grad = np.mean(grad)\n",
    "    return weights_grad, bias_grad"
   ]
  },
  {
   "cell_type": "code",
   "execution_count": 18,
   "id": "8ee25476-37d8-4b70-afcc-1e876bd710cd",
   "metadata": {},
   "outputs": [
    {
     "data": {
      "text/plain": [
       "(array([[32.56511071546749],\n",
       "        [-13.20803253974627],\n",
       "        [-17.670808874579006]], dtype=object),\n",
       " np.float64(0.04352259286461211))"
      ]
     },
     "execution_count": 18,
     "metadata": {},
     "output_type": "execute_result"
    }
   ],
   "source": [
    "compute_gradient(weights, bias, x_standartized, y)"
   ]
  },
  {
   "cell_type": "markdown",
   "id": "a58ae12b-89eb-4ecd-ac79-81c61fd8d073",
   "metadata": {},
   "source": [
    "Finally, we need to define the training loop. At each step, we will use `X` as the input and `y` as the target that we will compare to the output, and we will update the weights such that the error decreases.\n",
    "\n",
    "**Exercise 11** - Define a training loop with 30 epochs and learning rate $\\alpha=0.1$. Use the previously defined `compute_gradient` function and update the weights accordingly. At each step, print the loss and store it in a list."
   ]
  },
  {
   "cell_type": "code",
   "execution_count": 19,
   "id": "6173a3a5-bdc1-47d5-bdfd-a2421e686441",
   "metadata": {
    "scrolled": true
   },
   "outputs": [],
   "source": [
    "learning_rate = 0.1\n",
    "loss_per_epoch = []\n",
    "\n",
    "for epoch in range(30):\n",
    "    output = forward(weights, bias, x_standartized)\n",
    "    loss = mse_loss(y, output)\n",
    "    loss_per_epoch.append(loss)\n",
    "    weights_gradient, bias_gradient = (compute_gradient(\n",
    "        weights, bias, x_standartized, y\n",
    "    ))\n",
    "    weights_gradient = weights_gradient.astype(np.float64)\n",
    "    bias_gradient = bias_gradient.astype(np.float64)\n",
    "    weights = weights - learning_rate * weights_gradient\n",
    "    weights -= learning_rate * weights_gradient\n",
    "    bias -= learning_rate * bias_gradient\n",
    "    \n",
    "  \n",
    "output = forward(weights, bias, x_standartized)\n",
    "loss = mse_loss(y, output)\n",
    "loss_per_epoch.append(loss)"
   ]
  },
  {
   "cell_type": "code",
   "execution_count": null,
   "id": "41373b5d-9723-4b8b-901f-511787f79fce",
   "metadata": {},
   "outputs": [],
   "source": []
  },
  {
   "cell_type": "markdown",
   "id": "f8d6487a-24c4-43e7-ac92-28c0b34a726e",
   "metadata": {},
   "source": [
    "**Exercise 12** - Plot the loss per epoch. Is the perceptron learning from the training data?"
   ]
  },
  {
   "cell_type": "code",
   "execution_count": 20,
   "id": "8dc12b0b-4dd6-4e91-b72a-1fb120928f55",
   "metadata": {},
   "outputs": [
    {
     "data": {
      "text/plain": [
       "[<matplotlib.lines.Line2D at 0x2931fcef200>]"
      ]
     },
     "execution_count": 20,
     "metadata": {},
     "output_type": "execute_result"
    },
    {
     "data": {
      "image/png": "[encoded data removed]",
      "text/plain": [
       "<Figure size 640x480 with 1 Axes>"
      ]
     },
     "metadata": {},
     "output_type": "display_data"
    }
   ],
   "source": [
    "plt.plot(loss_per_epoch)"
   ]
  },
  {
   "cell_type": "markdown",
   "id": "8ff4f608-677a-4008-9ffd-344c8ca8551b",
   "metadata": {},
   "source": [
    "**Exercise 13** - Print the final weights matrix and the bias. How do they compare with the initial weights and bias from exercise 4? Which features are positively correlated and which ones negatively correlated with the presence of a sleep disorder?"
   ]
  },
  {
   "cell_type": "code",
   "execution_count": 21,
   "id": "79d629a5-70c7-421b-a619-7bead2231286",
   "metadata": {},
   "outputs": [
    {
     "name": "stdout",
     "output_type": "stream",
     "text": [
      "[[-6.69570509]\n",
      " [-4.6924461 ]\n",
      " [ 1.01984114]]\n"
     ]
    }
   ],
   "source": [
    "print(weights)"
   ]
  },
  {
   "cell_type": "code",
   "execution_count": 22,
   "id": "ae2ff194-3e06-4d49-9cd4-36b203e74387",
   "metadata": {},
   "outputs": [
    {
     "name": "stdout",
     "output_type": "stream",
     "text": [
      "[0.02372383]\n"
     ]
    }
   ],
   "source": [
    "print(bias)"
   ]
  },
  {
   "cell_type": "markdown",
   "id": "b802f8b0-1a67-4e63-b658-0418626dc8ad",
   "metadata": {},
   "source": [
    "**Exercise 14** - Make a final prediction with the trained model and compare it to the target $y$. How many of your predictions are correct? What is the accuracy of your model?"
   ]
  },
  {
   "cell_type": "code",
   "execution_count": 23,
   "id": "35dc80e2-73f3-4698-8d34-7f0f0ce52073",
   "metadata": {},
   "outputs": [
    {
     "name": "stdout",
     "output_type": "stream",
     "text": [
      "[[4.24991177e-101 6.79110728e-137 6.79110728e-137 6.09339887e-070\n",
      "  6.09339887e-070 6.09339887e-070 1.40313091e-096 2.94888831e-171\n",
      "  2.94888831e-171 2.94888831e-171 9.31202348e-076 2.94888831e-171\n",
      "  9.31202348e-076 9.31202348e-076 9.31202348e-076 9.31202348e-076\n",
      "  1.13502640e-093 9.31202348e-076 1.13502640e-093 2.94888831e-171\n",
      "  2.94888831e-171 2.94888831e-171 2.94888831e-171 2.94888831e-171\n",
      "  2.94888831e-171 2.94888831e-171 2.94888831e-171 2.94888831e-171\n",
      "  2.94888831e-171 2.94888831e-171 1.75599474e-083 1.75599474e-083\n",
      "  4.74163142e-175 9.31202348e-076 2.94888831e-171 9.31202348e-076\n",
      "  9.31202348e-076 2.94888831e-171 2.94888831e-171 2.94888831e-171\n",
      "  2.94888831e-171 2.94888831e-171 2.94888831e-171 2.94888831e-171\n",
      "  2.94888831e-171 2.94888831e-171 2.94888831e-171 2.94888831e-171\n",
      "  2.94888831e-171 2.94888831e-171 2.34487601e-114 2.34487601e-114\n",
      "  9.31202348e-076 2.94888831e-171 9.31202348e-076 9.31202348e-076\n",
      "  2.94888831e-171 9.31202348e-076 9.31202348e-076 2.94888831e-171\n",
      "  9.31202348e-076 9.31202348e-076 9.31202348e-076 9.31202348e-076\n",
      "  9.31202348e-076 9.31202348e-076 3.23099865e-123 9.31202348e-076\n",
      "  2.11423044e-117 2.11423044e-117 9.31202348e-076 9.31202348e-076\n",
      "  9.31202348e-076 9.31202348e-076 9.31202348e-076 9.31202348e-076\n",
      "  9.31202348e-076 9.31202348e-076 9.31202348e-076 9.31202348e-076\n",
      "  5.11743941e-074 5.11743941e-074 2.25614839e-100 2.25614839e-100\n",
      "  4.86845216e-144 1.75581812e-144 1.75581812e-144 1.75581812e-144\n",
      "  1.75581812e-144 1.75581812e-144 1.75581812e-144 1.75581812e-144\n",
      "  4.86845216e-144 3.93820827e-141 1.75581812e-144 1.75581812e-144\n",
      "  1.75581812e-144 1.75581812e-144 1.75581812e-144 1.75581812e-144\n",
      "  1.75581812e-144 1.75581812e-144 1.75581812e-144 1.75599474e-083\n",
      "  1.75581812e-144 1.75599474e-083 4.24991177e-101 7.33575869e-165\n",
      "  7.33575869e-165 4.86845216e-144 1.75581812e-144 4.86845216e-144\n",
      "  1.75581812e-144 4.86845216e-144 1.75581812e-144 1.75581812e-144\n",
      "  1.75581812e-144 1.75581812e-144 1.75581812e-144 1.75581812e-144\n",
      "  1.75581812e-144 1.75581812e-144 1.75581812e-144 1.75581812e-144\n",
      "  1.75581812e-144 1.75581812e-144 4.86845216e-144 1.75581812e-144\n",
      "  4.86845216e-144 4.86845216e-144 1.75581812e-144 4.86845216e-144\n",
      "  4.86845216e-144 1.75581812e-144 4.86845216e-144 4.86845216e-144\n",
      "  1.75581812e-144 4.86845216e-144 1.75581812e-144 4.86845216e-144\n",
      "  1.75581812e-144 4.86845216e-144 1.75581812e-144 1.75581812e-144\n",
      "  4.86845216e-144 3.93820827e-141 4.86845216e-144 1.13502640e-093\n",
      "  2.61363267e-120 1.36644260e-188 1.36644260e-188 4.86845216e-144\n",
      "  4.86845216e-144 4.86845216e-144 4.86845216e-144 4.86845216e-144\n",
      "  4.86845216e-144 4.86845216e-144 4.86845216e-144 4.86845216e-144\n",
      "  4.86845216e-144 2.08842812e-133 2.08842812e-133 3.55048298e-205\n",
      "  3.55048298e-205 3.55048298e-205 5.63985315e-164 1.68937983e-130\n",
      "  1.68937983e-130 3.55048298e-205 3.55048298e-205 3.55048298e-205\n",
      "  3.55048298e-205 3.55048298e-205 3.55048298e-205 3.55048298e-205\n",
      "  3.55048298e-205 9.06944992e-107 3.55048298e-205 3.55048298e-205\n",
      "  3.55048298e-205 3.55048298e-205 3.55048298e-205 3.55048298e-205\n",
      "  9.06944992e-107 9.06944992e-107 5.25943431e-111 9.06944992e-107\n",
      "  5.25943431e-111 9.06944992e-107 5.25943431e-111 9.06944992e-107\n",
      "  9.06944992e-107 9.06944992e-107 9.06944992e-107 9.06944992e-107\n",
      "  9.06944992e-107 9.06944992e-107 9.06944992e-107 9.06944992e-107\n",
      "  9.06944992e-107 3.55048298e-205 3.55048298e-205 7.61682625e-111\n",
      "  4.74163142e-175 3.55048298e-205 3.55048298e-205 3.55048298e-205\n",
      "  3.55048298e-205 3.55048298e-205 3.55048298e-205 3.55048298e-205\n",
      "  3.55048298e-205 3.55048298e-205 3.55048298e-205 3.55048298e-205\n",
      "  3.55048298e-205 3.55048298e-205 3.55048298e-205 9.06944992e-107\n",
      "  5.25943431e-111 9.06944992e-107 9.06944992e-107 9.06944992e-107\n",
      "  5.25943431e-111 9.06944992e-107 5.25943431e-111 9.06944992e-107\n",
      "  5.25943431e-111 9.06944992e-107 5.25943431e-111 9.06944992e-107\n",
      "  5.25943431e-111 9.06944992e-107 5.25943431e-111 9.06944992e-107\n",
      "  9.06944992e-107 5.25943431e-111 9.06944992e-107 9.06944992e-107\n",
      "  5.25943431e-111 9.06944992e-107 9.06944992e-107 5.25943431e-111\n",
      "  9.06944992e-107 5.25943431e-111 9.06944992e-107 1.12117440e-109\n",
      "  9.06944992e-107 9.06944992e-107 1.49731622e-079 1.49731622e-079\n",
      "  5.25943431e-111 5.25943431e-111 5.25943431e-111 5.25943431e-111\n",
      "  5.25943431e-111 5.25943431e-111 5.25943431e-111 5.25943431e-111\n",
      "  5.25943431e-111 5.25943431e-111 5.25943431e-111 6.09278600e-131\n",
      "  2.54554884e-151 4.95264409e-198 2.54554884e-151 4.95264409e-198\n",
      "  4.95264409e-198 4.95264409e-198 4.95264409e-198 4.95264409e-198\n",
      "  4.95264409e-198 4.95264409e-198 4.95264409e-198 4.95264409e-198\n",
      "  8.83230685e-199 8.83230685e-199 4.95264409e-198 1.07340557e-086\n",
      "  4.95264409e-198 4.95264409e-198 4.95264409e-198 4.95264409e-198\n",
      "  4.95264409e-198 4.95264409e-198 4.95264409e-198 4.95264409e-198\n",
      "  4.95264409e-198 4.95264409e-198 4.95264409e-198 4.95264409e-198\n",
      "  4.95264409e-198 4.95264409e-198 4.95264409e-198 4.95264409e-198\n",
      "  4.95264409e-198 4.95264409e-198 1.07340557e-086 1.07340557e-086\n",
      "  1.07340557e-086 1.07340557e-086 1.68937983e-130 4.95264409e-198\n",
      "  4.95264409e-198 4.95264409e-198 1.12117440e-109 1.12117440e-109\n",
      "  1.12117440e-109 1.12117440e-109 1.12117440e-109 1.12117440e-109\n",
      "  1.07340557e-086 1.07340557e-086 1.07340557e-086 1.07340557e-086\n",
      "  1.07340557e-086 1.07340557e-086 1.07340557e-086 1.07340557e-086\n",
      "  1.07340557e-086 1.07340557e-086 1.07340557e-086 1.07340557e-086\n",
      "  1.07340557e-086 1.07340557e-086 1.07340557e-086 1.07340557e-086\n",
      "  1.07340557e-086 1.07340557e-086 1.07340557e-086 1.07340557e-086\n",
      "  1.07340557e-086 1.07340557e-086 1.07340557e-086 1.07340557e-086\n",
      "  1.07340557e-086 1.07340557e-086 1.07340557e-086 5.86165184e-178\n",
      "  5.86165184e-178 5.70895873e-209 5.70895873e-209 2.11401780e-178\n",
      "  2.11401780e-178 2.11401780e-178 2.11401780e-178 2.11401780e-178\n",
      "  2.11401780e-178 2.11401780e-178 2.11401780e-178 2.11401780e-178\n",
      "  2.11401780e-178 2.11401780e-178 2.11401780e-178 2.11401780e-178\n",
      "  2.11401780e-178 2.11401780e-178 2.11401780e-178 2.11401780e-178\n",
      "  2.11401780e-178 2.11401780e-178 2.11401780e-178 2.11401780e-178\n",
      "  2.11401780e-178 2.11401780e-178 2.11401780e-178 2.11401780e-178\n",
      "  2.11401780e-178 2.11401780e-178 2.11401780e-178 2.11401780e-178\n",
      "  2.11401780e-178 2.11401780e-178]]\n",
      "[[1 1 1 0 0 0 0 1 1 1 1 1 1 1 1 1 0 0 0 1 1 1 1 1 1 1 1 1 1 1 0 0 1 1 1 1\n",
      "  1 1 1 1 1 1 1 1 1 1 1 1 1 0 1 1 1 1 1 1 1 1 1 1 1 1 1 1 1 1 1 0 1 1 1 1\n",
      "  1 1 1 1 1 1 1 1 0 0 1 1 1 1 1 1 1 1 1 1 1 0 0 1 1 1 1 1 1 1 1 0 0 0 1 1\n",
      "  1 1 1 1 1 1 1 1 1 1 1 1 1 1 1 1 1 1 1 1 1 1 1 1 1 1 1 1 1 1 1 1 1 1 1 1\n",
      "  0 0 0 0 1 1 1 1 1 1 1 1 1 1 1 1 1 1 1 1 1 0 1 1 1 1 1 1 1 1 1 1 1 0 1 1\n",
      "  1 1 1 1 0 0 0 0 0 0 0 0 0 0 0 0 0 0 0 0 0 0 0 1 1 1 1 1 1 1 1 1 1 1 1 1\n",
      "  1 1 0 0 0 0 0 0 0 0 0 0 0 0 0 0 0 0 0 0 0 0 0 0 0 0 0 0 0 0 0 0 1 1 0 0\n",
      "  0 0 0 0 0 0 0 0 0 1 1 1 0 0 0 1 0 0 0 0 0 0 0 0 0 0 0 1 1 0 0 0 0 0 0 0\n",
      "  0 0 0 0 0 0 0 0 0 0 1 1 1 1 1 0 0 0 0 0 0 0 0 0 1 1 1 0 1 1 1 1 1 1 1 1\n",
      "  1 1 1 1 1 1 1 1 1 1 1 1 1 1 1 0 0 1 1 1 0 0 0 0 0 0 0 0 0 0 0 0 0 0 1 1\n",
      "  0 0 0 0 0 0 0 0 0 0 0 0 0 0]]\n",
      "219 out of 374\n",
      "0.5855614973262032\n"
     ]
    }
   ],
   "source": [
    "yhat = forward(weights,bias,x)\n",
    "y_true = (y == (yhat > 0.5)).astype(int)\n",
    "print(yhat)\n",
    "print(y_true)\n",
    "print(np.sum(y_true), \"out of\", y_true.shape[1])\n",
    "print(np.mean(y_true))"
   ]
  },
  {
   "cell_type": "code",
   "execution_count": null,
   "id": "873f73d5-3897-4b56-89c3-12d16096e5cf",
   "metadata": {},
   "outputs": [],
   "source": []
  }
 ],
 "metadata": {
  "kernelspec": {
   "display_name": "Python 3 (ipykernel)",
   "language": "python",
   "name": "python3"
  },
  "language_info": {
   "codemirror_mode": {
    "name": "ipython",
    "version": 3
   },
   "file_extension": ".py",
   "mimetype": "text/x-python",
   "name": "python",
   "nbconvert_exporter": "python",
   "pygments_lexer": "ipython3",
   "version": "3.12.4"
  }
 },
 "nbformat": 4,
 "nbformat_minor": 5
}
